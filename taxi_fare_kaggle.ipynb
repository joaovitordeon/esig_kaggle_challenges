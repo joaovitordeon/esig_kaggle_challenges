{
  "nbformat": 4,
  "nbformat_minor": 0,
  "metadata": {
    "colab": {
      "name": "taxi_fare_kaggle.ipynb",
      "version": "0.3.2",
      "provenance": [],
      "collapsed_sections": [],
      "include_colab_link": true
    },
    "kernelspec": {
      "name": "python3",
      "display_name": "Python 3"
    }
  },
  "cells": [
    {
      "cell_type": "markdown",
      "metadata": {
        "id": "view-in-github",
        "colab_type": "text"
      },
      "source": [
        "<a href=\"https://colab.research.google.com/github/joaovitordeon/esig_kaggle_challenges/blob/master/taxi_fare_kaggle.ipynb\" target=\"_parent\"><img src=\"https://colab.research.google.com/assets/colab-badge.svg\" alt=\"Open In Colab\"/></a>"
      ]
    },
    {
      "metadata": {
        "id": "LCu2QpmxxtAH",
        "colab_type": "text"
      },
      "cell_type": "markdown",
      "source": [
        "# Analise exploratória dos dados\n"
      ]
    },
    {
      "metadata": {
        "id": "m8ORGEWtmdvs",
        "colab_type": "code",
        "outputId": "8bd01a24-5575-43e6-c282-64360bfe70cf",
        "colab": {
          "base_uri": "https://localhost:8080/",
          "height": 34
        }
      },
      "cell_type": "code",
      "source": [
        "from google.colab import drive\n",
        "drive.mount('/content/drive')"
      ],
      "execution_count": 0,
      "outputs": [
        {
          "output_type": "stream",
          "text": [
            "Drive already mounted at /content/drive; to attempt to forcibly remount, call drive.mount(\"/content/drive\", force_remount=True).\n"
          ],
          "name": "stdout"
        }
      ]
    },
    {
      "metadata": {
        "id": "93wyfl5ppQSe",
        "colab_type": "code",
        "outputId": "1e222fbb-e480-43fd-cf79-c1b747b7709b",
        "colab": {
          "base_uri": "https://localhost:8080/",
          "height": 34
        }
      },
      "cell_type": "code",
      "source": [
        "! ls \"/content/drive/My Drive/e-sig/taxi_fare\""
      ],
      "execution_count": 0,
      "outputs": [
        {
          "output_type": "stream",
          "text": [
            "sample_submission.csv  taxi_fare_kaggle.ipynb  taxi_train.csv  test.csv\n"
          ],
          "name": "stdout"
        }
      ]
    },
    {
      "metadata": {
        "id": "I7o48ASbpulO",
        "colab_type": "code",
        "colab": {}
      },
      "cell_type": "code",
      "source": [
        "import numpy as np\n",
        "import pandas as pd\n",
        "import seaborn as sns\n",
        "import matplotlib.pyplot as plt"
      ],
      "execution_count": 0,
      "outputs": []
    },
    {
      "metadata": {
        "id": "bjUPXFPppyhH",
        "colab_type": "code",
        "colab": {}
      },
      "cell_type": "code",
      "source": [
        "df_train = pd.read_csv(\"/content/drive/My Drive/e-sig/taxi_fare/taxi_train.csv\")"
      ],
      "execution_count": 0,
      "outputs": []
    },
    {
      "metadata": {
        "id": "T5PvPaoWlkyI",
        "colab_type": "code",
        "colab": {}
      },
      "cell_type": "code",
      "source": [
        "df_test = pd.read_csv(\"/content/drive/My Drive/e-sig/taxi_fare/test.csv\")"
      ],
      "execution_count": 0,
      "outputs": []
    },
    {
      "metadata": {
        "id": "SUaM_5WolvOz",
        "colab_type": "code",
        "outputId": "e80aaf8c-634d-4843-eea5-1746342c0b13",
        "colab": {
          "base_uri": "https://localhost:8080/",
          "height": 221
        }
      },
      "cell_type": "code",
      "source": [
        "df_test.info()"
      ],
      "execution_count": 0,
      "outputs": [
        {
          "output_type": "stream",
          "text": [
            "<class 'pandas.core.frame.DataFrame'>\n",
            "RangeIndex: 9914 entries, 0 to 9913\n",
            "Data columns (total 7 columns):\n",
            "key                  9914 non-null object\n",
            "pickup_datetime      9914 non-null object\n",
            "pickup_longitude     9914 non-null float64\n",
            "pickup_latitude      9914 non-null float64\n",
            "dropoff_longitude    9914 non-null float64\n",
            "dropoff_latitude     9914 non-null float64\n",
            "passenger_count      9914 non-null int64\n",
            "dtypes: float64(4), int64(1), object(2)\n",
            "memory usage: 542.2+ KB\n"
          ],
          "name": "stdout"
        }
      ]
    },
    {
      "metadata": {
        "id": "eut8wbBlrspG",
        "colab_type": "code",
        "outputId": "9bc18363-aafe-479b-cf44-4f70341fd9d0",
        "colab": {
          "base_uri": "https://localhost:8080/",
          "height": 289
        }
      },
      "cell_type": "code",
      "source": [
        "df_train.head()"
      ],
      "execution_count": 0,
      "outputs": [
        {
          "output_type": "execute_result",
          "data": {
            "text/html": [
              "<div>\n",
              "<style scoped>\n",
              "    .dataframe tbody tr th:only-of-type {\n",
              "        vertical-align: middle;\n",
              "    }\n",
              "\n",
              "    .dataframe tbody tr th {\n",
              "        vertical-align: top;\n",
              "    }\n",
              "\n",
              "    .dataframe thead th {\n",
              "        text-align: right;\n",
              "    }\n",
              "</style>\n",
              "<table border=\"1\" class=\"dataframe\">\n",
              "  <thead>\n",
              "    <tr style=\"text-align: right;\">\n",
              "      <th></th>\n",
              "      <th>key</th>\n",
              "      <th>fare_amount</th>\n",
              "      <th>pickup_datetime</th>\n",
              "      <th>pickup_longitude</th>\n",
              "      <th>pickup_latitude</th>\n",
              "      <th>dropoff_longitude</th>\n",
              "      <th>dropoff_latitude</th>\n",
              "      <th>passenger_count</th>\n",
              "    </tr>\n",
              "  </thead>\n",
              "  <tbody>\n",
              "    <tr>\n",
              "      <th>0</th>\n",
              "      <td>2009-06-15 17:26:21.0000001</td>\n",
              "      <td>4.5</td>\n",
              "      <td>2009-06-15 17:26:21 UTC</td>\n",
              "      <td>-73.844311</td>\n",
              "      <td>40.721319</td>\n",
              "      <td>-73.841610</td>\n",
              "      <td>40.712278</td>\n",
              "      <td>1</td>\n",
              "    </tr>\n",
              "    <tr>\n",
              "      <th>1</th>\n",
              "      <td>2010-01-05 16:52:16.0000002</td>\n",
              "      <td>16.9</td>\n",
              "      <td>2010-01-05 16:52:16 UTC</td>\n",
              "      <td>-74.016048</td>\n",
              "      <td>40.711303</td>\n",
              "      <td>-73.979268</td>\n",
              "      <td>40.782004</td>\n",
              "      <td>1</td>\n",
              "    </tr>\n",
              "    <tr>\n",
              "      <th>2</th>\n",
              "      <td>2011-08-18 00:35:00.00000049</td>\n",
              "      <td>5.7</td>\n",
              "      <td>2011-08-18 00:35:00 UTC</td>\n",
              "      <td>-73.982738</td>\n",
              "      <td>40.761270</td>\n",
              "      <td>-73.991242</td>\n",
              "      <td>40.750562</td>\n",
              "      <td>2</td>\n",
              "    </tr>\n",
              "    <tr>\n",
              "      <th>3</th>\n",
              "      <td>2012-04-21 04:30:42.0000001</td>\n",
              "      <td>7.7</td>\n",
              "      <td>2012-04-21 04:30:42 UTC</td>\n",
              "      <td>-73.987130</td>\n",
              "      <td>40.733143</td>\n",
              "      <td>-73.991567</td>\n",
              "      <td>40.758092</td>\n",
              "      <td>1</td>\n",
              "    </tr>\n",
              "    <tr>\n",
              "      <th>4</th>\n",
              "      <td>2010-03-09 07:51:00.000000135</td>\n",
              "      <td>5.3</td>\n",
              "      <td>2010-03-09 07:51:00 UTC</td>\n",
              "      <td>-73.968095</td>\n",
              "      <td>40.768008</td>\n",
              "      <td>-73.956655</td>\n",
              "      <td>40.783762</td>\n",
              "      <td>1</td>\n",
              "    </tr>\n",
              "  </tbody>\n",
              "</table>\n",
              "</div>"
            ],
            "text/plain": [
              "                             key  fare_amount          pickup_datetime  \\\n",
              "0    2009-06-15 17:26:21.0000001          4.5  2009-06-15 17:26:21 UTC   \n",
              "1    2010-01-05 16:52:16.0000002         16.9  2010-01-05 16:52:16 UTC   \n",
              "2   2011-08-18 00:35:00.00000049          5.7  2011-08-18 00:35:00 UTC   \n",
              "3    2012-04-21 04:30:42.0000001          7.7  2012-04-21 04:30:42 UTC   \n",
              "4  2010-03-09 07:51:00.000000135          5.3  2010-03-09 07:51:00 UTC   \n",
              "\n",
              "   pickup_longitude  pickup_latitude  dropoff_longitude  dropoff_latitude  \\\n",
              "0        -73.844311        40.721319         -73.841610         40.712278   \n",
              "1        -74.016048        40.711303         -73.979268         40.782004   \n",
              "2        -73.982738        40.761270         -73.991242         40.750562   \n",
              "3        -73.987130        40.733143         -73.991567         40.758092   \n",
              "4        -73.968095        40.768008         -73.956655         40.783762   \n",
              "\n",
              "   passenger_count  \n",
              "0                1  \n",
              "1                1  \n",
              "2                2  \n",
              "3                1  \n",
              "4                1  "
            ]
          },
          "metadata": {
            "tags": []
          },
          "execution_count": 164
        }
      ]
    },
    {
      "metadata": {
        "id": "xjxog16mThvn",
        "colab_type": "code",
        "outputId": "a6278866-b42f-4518-8c52-14c544c0e0d9",
        "colab": {
          "base_uri": "https://localhost:8080/",
          "height": 238
        }
      },
      "cell_type": "code",
      "source": [
        "df_train.info()"
      ],
      "execution_count": 0,
      "outputs": [
        {
          "output_type": "stream",
          "text": [
            "<class 'pandas.core.frame.DataFrame'>\n",
            "RangeIndex: 1048575 entries, 0 to 1048574\n",
            "Data columns (total 8 columns):\n",
            "key                  1048575 non-null object\n",
            "fare_amount          1048575 non-null float64\n",
            "pickup_datetime      1048575 non-null object\n",
            "pickup_longitude     1048575 non-null float64\n",
            "pickup_latitude      1048575 non-null float64\n",
            "dropoff_longitude    1048565 non-null float64\n",
            "dropoff_latitude     1048565 non-null float64\n",
            "passenger_count      1048575 non-null int64\n",
            "dtypes: float64(5), int64(1), object(2)\n",
            "memory usage: 64.0+ MB\n"
          ],
          "name": "stdout"
        }
      ]
    },
    {
      "metadata": {
        "id": "286crum2x4xf",
        "colab_type": "text"
      },
      "cell_type": "markdown",
      "source": [
        "**dropoff_longitude e dropoff_latitude com valores nulos**"
      ]
    },
    {
      "metadata": {
        "id": "6nlm5-7P25bp",
        "colab_type": "text"
      },
      "cell_type": "markdown",
      "source": [
        "**mudar o tipo de key e pickup_datetime para datetime**"
      ]
    },
    {
      "metadata": {
        "id": "2Aciivkxy5Xf",
        "colab_type": "code",
        "colab": {}
      },
      "cell_type": "code",
      "source": [
        "df_train.dropna(inplace=True, axis='index')"
      ],
      "execution_count": 0,
      "outputs": []
    },
    {
      "metadata": {
        "id": "TboKdtD87nhw",
        "colab_type": "code",
        "colab": {}
      },
      "cell_type": "code",
      "source": [
        "#criação de features de ano, mes, dia da semana e hora\n",
        "def add_date_features(df):\n",
        "  df['pickup_datetime'] = pd.to_datetime(df['pickup_datetime'])\n",
        "  \n",
        "  df['pickup_datetime_year'] = df['pickup_datetime'].dt.year\n",
        "  df['pickup_datetime_month'] = df['pickup_datetime'].dt.month\n",
        "  df['pickup_datetime_day_week'] = df['pickup_datetime'].dt.weekday\n",
        "  df['pickup_datetime_day'] = df['pickup_datetime'].dt.day\n",
        "  df['pickup_datetime_day_hour'] = df['pickup_datetime'].dt.hour\n",
        "\n",
        "add_date_features(df_train)  "
      ],
      "execution_count": 0,
      "outputs": []
    },
    {
      "metadata": {
        "id": "_UokzfpizQC9",
        "colab_type": "code",
        "colab": {}
      },
      "cell_type": "code",
      "source": [
        "#função de distancia dado longitude e latitude\n",
        "\n",
        "def haversine_distance(df):    \n",
        "    \n",
        "  R = 6371  #radius of earth in kilometers\n",
        "  #R = 3959 #radius of earth in miles\n",
        "  phi1 = np.radians(df['pickup_latitude'])\n",
        "  phi2 = np.radians(df['dropoff_latitude'])\n",
        "\n",
        "  delta_phi = np.radians(df['dropoff_latitude']-df['pickup_latitude'])\n",
        "  delta_lambda = np.radians(df['dropoff_longitude']-df['pickup_longitude'])\n",
        "\n",
        "  #a = sin²((φB - φA)/2) + cos φA . cos φB . sin²((λB - λA)/2)\n",
        "  a = np.sin(delta_phi / 2.0) ** 2 + np.cos(phi1) * np.cos(phi2) * np.sin(delta_lambda / 2.0) ** 2\n",
        "\n",
        "  #c = 2 * atan2( √a, √(1−a) )\n",
        "  c = 2 * np.arctan2(np.sqrt(a), np.sqrt(1-a))\n",
        "\n",
        "  #d = R*c\n",
        "  d = (R * c) #in km\n",
        "  df['distance'] = d\n",
        "  "
      ],
      "execution_count": 0,
      "outputs": []
    },
    {
      "metadata": {
        "id": "UI5i1z5yzUox",
        "colab_type": "code",
        "colab": {}
      },
      "cell_type": "code",
      "source": [
        "haversine_distance(df_train)"
      ],
      "execution_count": 0,
      "outputs": []
    },
    {
      "metadata": {
        "id": "nb4q6uYwX1fG",
        "colab_type": "code",
        "outputId": "b450fc6f-3474-42d8-b1d2-24e5c10dee19",
        "colab": {
          "base_uri": "https://localhost:8080/",
          "height": 34
        }
      },
      "cell_type": "code",
      "source": [
        "len(df_train[((df_train.distance<=0) | (df_train.distance>200))])"
      ],
      "execution_count": 0,
      "outputs": [
        {
          "output_type": "execute_result",
          "data": {
            "text/plain": [
              "38871"
            ]
          },
          "metadata": {
            "tags": []
          },
          "execution_count": 170
        }
      ]
    },
    {
      "metadata": {
        "id": "MifpfLFlYIl0",
        "colab_type": "text"
      },
      "cell_type": "markdown",
      "source": [
        "**apagar esses dados onde a distancia é menor que zero km**"
      ]
    },
    {
      "metadata": {
        "id": "kVI7XfH50eTn",
        "colab_type": "code",
        "outputId": "97bd510f-0bdd-4df3-cf1b-53bf2a027d3c",
        "colab": {
          "base_uri": "https://localhost:8080/",
          "height": 317
        }
      },
      "cell_type": "code",
      "source": [
        "df_train.describe()"
      ],
      "execution_count": 0,
      "outputs": [
        {
          "output_type": "execute_result",
          "data": {
            "text/html": [
              "<div>\n",
              "<style scoped>\n",
              "    .dataframe tbody tr th:only-of-type {\n",
              "        vertical-align: middle;\n",
              "    }\n",
              "\n",
              "    .dataframe tbody tr th {\n",
              "        vertical-align: top;\n",
              "    }\n",
              "\n",
              "    .dataframe thead th {\n",
              "        text-align: right;\n",
              "    }\n",
              "</style>\n",
              "<table border=\"1\" class=\"dataframe\">\n",
              "  <thead>\n",
              "    <tr style=\"text-align: right;\">\n",
              "      <th></th>\n",
              "      <th>fare_amount</th>\n",
              "      <th>pickup_longitude</th>\n",
              "      <th>pickup_latitude</th>\n",
              "      <th>dropoff_longitude</th>\n",
              "      <th>dropoff_latitude</th>\n",
              "      <th>passenger_count</th>\n",
              "      <th>pickup_datetime_year</th>\n",
              "      <th>pickup_datetime_month</th>\n",
              "      <th>pickup_datetime_day_week</th>\n",
              "      <th>pickup_datetime_day</th>\n",
              "      <th>pickup_datetime_day_hour</th>\n",
              "      <th>distance</th>\n",
              "    </tr>\n",
              "  </thead>\n",
              "  <tbody>\n",
              "    <tr>\n",
              "      <th>count</th>\n",
              "      <td>1.048565e+06</td>\n",
              "      <td>1.048565e+06</td>\n",
              "      <td>1.048565e+06</td>\n",
              "      <td>1.048565e+06</td>\n",
              "      <td>1.048565e+06</td>\n",
              "      <td>1.048565e+06</td>\n",
              "      <td>1.048565e+06</td>\n",
              "      <td>1.048565e+06</td>\n",
              "      <td>1.048565e+06</td>\n",
              "      <td>1.048565e+06</td>\n",
              "      <td>1.048565e+06</td>\n",
              "      <td>1.048565e+06</td>\n",
              "    </tr>\n",
              "    <tr>\n",
              "      <th>mean</th>\n",
              "      <td>1.134536e+01</td>\n",
              "      <td>-2.117889e+02</td>\n",
              "      <td>1.114547e+02</td>\n",
              "      <td>-2.039583e+02</td>\n",
              "      <td>1.088918e+02</td>\n",
              "      <td>1.684918e+00</td>\n",
              "      <td>2.011741e+03</td>\n",
              "      <td>6.267614e+00</td>\n",
              "      <td>3.039552e+00</td>\n",
              "      <td>1.569893e+01</td>\n",
              "      <td>1.350857e+01</td>\n",
              "      <td>5.962895e+01</td>\n",
              "    </tr>\n",
              "    <tr>\n",
              "      <th>std</th>\n",
              "      <td>9.819785e+00</td>\n",
              "      <td>3.205070e+03</td>\n",
              "      <td>1.707329e+03</td>\n",
              "      <td>3.115245e+03</td>\n",
              "      <td>1.679071e+03</td>\n",
              "      <td>1.323151e+00</td>\n",
              "      <td>1.860614e+00</td>\n",
              "      <td>3.436193e+00</td>\n",
              "      <td>1.949903e+00</td>\n",
              "      <td>8.681039e+00</td>\n",
              "      <td>6.513892e+00</td>\n",
              "      <td>6.558114e+02</td>\n",
              "    </tr>\n",
              "    <tr>\n",
              "      <th>min</th>\n",
              "      <td>-4.490000e+01</td>\n",
              "      <td>-7.411500e+04</td>\n",
              "      <td>-7.399500e+04</td>\n",
              "      <td>-7.420200e+04</td>\n",
              "      <td>-7.400100e+04</td>\n",
              "      <td>0.000000e+00</td>\n",
              "      <td>2.009000e+03</td>\n",
              "      <td>1.000000e+00</td>\n",
              "      <td>0.000000e+00</td>\n",
              "      <td>1.000000e+00</td>\n",
              "      <td>0.000000e+00</td>\n",
              "      <td>0.000000e+00</td>\n",
              "    </tr>\n",
              "    <tr>\n",
              "      <th>25%</th>\n",
              "      <td>6.000000e+00</td>\n",
              "      <td>-7.399213e+01</td>\n",
              "      <td>4.073501e+01</td>\n",
              "      <td>-7.399143e+01</td>\n",
              "      <td>4.073410e+01</td>\n",
              "      <td>1.000000e+00</td>\n",
              "      <td>2.010000e+03</td>\n",
              "      <td>3.000000e+00</td>\n",
              "      <td>1.000000e+00</td>\n",
              "      <td>8.000000e+00</td>\n",
              "      <td>9.000000e+00</td>\n",
              "      <td>1.217331e+00</td>\n",
              "    </tr>\n",
              "    <tr>\n",
              "      <th>50%</th>\n",
              "      <td>8.500000e+00</td>\n",
              "      <td>-7.398184e+01</td>\n",
              "      <td>4.075273e+01</td>\n",
              "      <td>-7.398018e+01</td>\n",
              "      <td>4.075324e+01</td>\n",
              "      <td>1.000000e+00</td>\n",
              "      <td>2.012000e+03</td>\n",
              "      <td>6.000000e+00</td>\n",
              "      <td>3.000000e+00</td>\n",
              "      <td>1.600000e+01</td>\n",
              "      <td>1.400000e+01</td>\n",
              "      <td>2.130800e+00</td>\n",
              "    </tr>\n",
              "    <tr>\n",
              "      <th>75%</th>\n",
              "      <td>1.250000e+01</td>\n",
              "      <td>-7.396716e+01</td>\n",
              "      <td>4.076725e+01</td>\n",
              "      <td>-7.396372e+01</td>\n",
              "      <td>4.076822e+01</td>\n",
              "      <td>2.000000e+00</td>\n",
              "      <td>2.013000e+03</td>\n",
              "      <td>9.000000e+00</td>\n",
              "      <td>5.000000e+00</td>\n",
              "      <td>2.300000e+01</td>\n",
              "      <td>1.900000e+01</td>\n",
              "      <td>3.939849e+00</td>\n",
              "    </tr>\n",
              "    <tr>\n",
              "      <th>max</th>\n",
              "      <td>5.000000e+02</td>\n",
              "      <td>2.522271e+03</td>\n",
              "      <td>4.084900e+04</td>\n",
              "      <td>4.078500e+04</td>\n",
              "      <td>4.090200e+04</td>\n",
              "      <td>2.080000e+02</td>\n",
              "      <td>2.015000e+03</td>\n",
              "      <td>1.200000e+01</td>\n",
              "      <td>6.000000e+00</td>\n",
              "      <td>3.100000e+01</td>\n",
              "      <td>2.300000e+01</td>\n",
              "      <td>1.988110e+04</td>\n",
              "    </tr>\n",
              "  </tbody>\n",
              "</table>\n",
              "</div>"
            ],
            "text/plain": [
              "        fare_amount  pickup_longitude  pickup_latitude  dropoff_longitude  \\\n",
              "count  1.048565e+06      1.048565e+06     1.048565e+06       1.048565e+06   \n",
              "mean   1.134536e+01     -2.117889e+02     1.114547e+02      -2.039583e+02   \n",
              "std    9.819785e+00      3.205070e+03     1.707329e+03       3.115245e+03   \n",
              "min   -4.490000e+01     -7.411500e+04    -7.399500e+04      -7.420200e+04   \n",
              "25%    6.000000e+00     -7.399213e+01     4.073501e+01      -7.399143e+01   \n",
              "50%    8.500000e+00     -7.398184e+01     4.075273e+01      -7.398018e+01   \n",
              "75%    1.250000e+01     -7.396716e+01     4.076725e+01      -7.396372e+01   \n",
              "max    5.000000e+02      2.522271e+03     4.084900e+04       4.078500e+04   \n",
              "\n",
              "       dropoff_latitude  passenger_count  pickup_datetime_year  \\\n",
              "count      1.048565e+06     1.048565e+06          1.048565e+06   \n",
              "mean       1.088918e+02     1.684918e+00          2.011741e+03   \n",
              "std        1.679071e+03     1.323151e+00          1.860614e+00   \n",
              "min       -7.400100e+04     0.000000e+00          2.009000e+03   \n",
              "25%        4.073410e+01     1.000000e+00          2.010000e+03   \n",
              "50%        4.075324e+01     1.000000e+00          2.012000e+03   \n",
              "75%        4.076822e+01     2.000000e+00          2.013000e+03   \n",
              "max        4.090200e+04     2.080000e+02          2.015000e+03   \n",
              "\n",
              "       pickup_datetime_month  pickup_datetime_day_week  pickup_datetime_day  \\\n",
              "count           1.048565e+06              1.048565e+06         1.048565e+06   \n",
              "mean            6.267614e+00              3.039552e+00         1.569893e+01   \n",
              "std             3.436193e+00              1.949903e+00         8.681039e+00   \n",
              "min             1.000000e+00              0.000000e+00         1.000000e+00   \n",
              "25%             3.000000e+00              1.000000e+00         8.000000e+00   \n",
              "50%             6.000000e+00              3.000000e+00         1.600000e+01   \n",
              "75%             9.000000e+00              5.000000e+00         2.300000e+01   \n",
              "max             1.200000e+01              6.000000e+00         3.100000e+01   \n",
              "\n",
              "       pickup_datetime_day_hour      distance  \n",
              "count              1.048565e+06  1.048565e+06  \n",
              "mean               1.350857e+01  5.962895e+01  \n",
              "std                6.513892e+00  6.558114e+02  \n",
              "min                0.000000e+00  0.000000e+00  \n",
              "25%                9.000000e+00  1.217331e+00  \n",
              "50%                1.400000e+01  2.130800e+00  \n",
              "75%                1.900000e+01  3.939849e+00  \n",
              "max                2.300000e+01  1.988110e+04  "
            ]
          },
          "metadata": {
            "tags": []
          },
          "execution_count": 171
        }
      ]
    },
    {
      "metadata": {
        "id": "kmRT4_nm0Da-",
        "colab_type": "text"
      },
      "cell_type": "markdown",
      "source": [
        "**Temos valores menores que zero em fare_amount, o que indica possível input error **"
      ]
    },
    {
      "metadata": {
        "id": "Oo-mwly2SJ7_",
        "colab_type": "text"
      },
      "cell_type": "markdown",
      "source": [
        "**Em passenger_count temos dois outliers (2.08e2 = 208) e 0 passageiros.**"
      ]
    },
    {
      "metadata": {
        "id": "JaR5_VTjY68I",
        "colab_type": "text"
      },
      "cell_type": "markdown",
      "source": [
        "**valores muito altos em medidas de latitude e longitude**"
      ]
    },
    {
      "metadata": {
        "id": "sCftWCguZLJl",
        "colab_type": "text"
      },
      "cell_type": "markdown",
      "source": [
        "**valores muito baixos em latidude e longitude**"
      ]
    },
    {
      "metadata": {
        "id": "11AzRZJiYX1t",
        "colab_type": "text"
      },
      "cell_type": "markdown",
      "source": [
        "**valores extremos em distance**"
      ]
    },
    {
      "metadata": {
        "id": "nC1wDfoaS6Ya",
        "colab_type": "code",
        "outputId": "917dbc92-52a2-4cbd-ee4d-f581c796939f",
        "colab": {
          "base_uri": "https://localhost:8080/",
          "height": 748
        }
      },
      "cell_type": "code",
      "source": [
        "#vamos buscar esses outliers visualmente\n",
        "fig, ax = plt.subplots(2,3, figsize=(18,12))\n",
        "b1 = sns.boxplot(df_train['distance'], ax=ax[0][0]  )\n",
        "b2 = sns.boxplot(df_train['pickup_longitude'], ax=ax[0][1])\n",
        "b3 = sns.boxplot(df_train['pickup_latitude'], ax=ax[0][2])\n",
        "b4 = sns.boxplot(df_train['dropoff_longitude'], ax=ax[1][0])\n",
        "b5 = sns.boxplot(df_train['dropoff_latitude'], ax=ax[1][1])\n",
        "b6 = sns.boxplot(df_train['passenger_count'], ax=ax[1][2])\n",
        "    "
      ],
      "execution_count": 0,
      "outputs": [
        {
          "output_type": "stream",
          "text": [
            "/usr/local/lib/python3.6/dist-packages/seaborn/categorical.py:454: FutureWarning: remove_na is deprecated and is a private function. Do not use.\n",
            "  box_data = remove_na(group_data)\n"
          ],
          "name": "stderr"
        },
        {
          "output_type": "display_data",
          "data": {
            "image/png": "[encoded data removed]",
            "text/plain": [
              "<Figure size 1296x864 with 6 Axes>"
            ]
          },
          "metadata": {
            "tags": []
          }
        }
      ]
    },
    {
      "metadata": {
        "id": "s0JtYIJXXuML",
        "colab_type": "text"
      },
      "cell_type": "markdown",
      "source": [
        "**limites da latitude: [-90,90] ;  limites da longitude:[-180,180]**"
      ]
    },
    {
      "metadata": {
        "id": "UcV27yLBYhpj",
        "colab_type": "text"
      },
      "cell_type": "markdown",
      "source": [
        "**remover os outliers de latitude e longitude que extrapolem esses limites acima**"
      ]
    },
    {
      "metadata": {
        "id": "2bkt4igDYYRP",
        "colab_type": "text"
      },
      "cell_type": "markdown",
      "source": [
        "**remover as passagens acima de 300 dolares, pois sao possuveis outlires de input error**"
      ]
    },
    {
      "metadata": {
        "id": "Dlq1iI9gYszw",
        "colab_type": "text"
      },
      "cell_type": "markdown",
      "source": [
        "**remover o dado que possui passenger_count = 208**"
      ]
    },
    {
      "metadata": {
        "id": "VJpmpmnezbWP",
        "colab_type": "code",
        "outputId": "e1e7c7a8-fb50-43cf-f5d4-b3c24757f3e0",
        "colab": {
          "base_uri": "https://localhost:8080/",
          "height": 412
        }
      },
      "cell_type": "code",
      "source": [
        "#visualização do target(fare_amount)\n",
        "h = sns.distplot(df_train['fare_amount'], color='orangered')\n"
      ],
      "execution_count": 0,
      "outputs": [
        {
          "output_type": "stream",
          "text": [
            "/usr/local/lib/python3.6/dist-packages/matplotlib/axes/_axes.py:6521: MatplotlibDeprecationWarning: \n",
            "The 'normed' kwarg was deprecated in Matplotlib 2.1 and will be removed in 3.1. Use 'density' instead.\n",
            "  alternative=\"'density'\", removal=\"3.1\")\n"
          ],
          "name": "stderr"
        },
        {
          "output_type": "display_data",
          "data": {
            "image/png": "[encoded data removed]",
            "text/plain": [
              "<Figure size 576x396 with 1 Axes>"
            ]
          },
          "metadata": {
            "tags": []
          }
        }
      ]
    },
    {
      "metadata": {
        "id": "ihCiw9fdca8t",
        "colab_type": "text"
      },
      "cell_type": "markdown",
      "source": [
        "**Aqui vemos graficamente valores menores que zero**"
      ]
    },
    {
      "metadata": {
        "id": "c5IpFgOH92Tf",
        "colab_type": "code",
        "outputId": "a7573f18-69d0-41e6-c52c-3e0fffb95d31",
        "colab": {
          "base_uri": "https://localhost:8080/",
          "height": 443
        }
      },
      "cell_type": "code",
      "source": [
        "#analisando graficamente as novas features de ano, mes, dia da semana e hora\n",
        "fig, ax = plt.subplots(1,5, figsize=(20,6))\n",
        "d1= sns.distplot(df_train['pickup_datetime_year'], ax=ax[0], color='magenta')\n",
        "d2 = sns.distplot(df_train['pickup_datetime_month'], ax=ax[1], color='green')\n",
        "d3 = sns.distplot(df_train['pickup_datetime_day_week'], ax=ax[2], color='blue')\n",
        "d4 = sns.distplot(df_train['pickup_datetime_day'], ax=ax[3], color='c')\n",
        "d5 = sns.distplot(df_train['pickup_datetime_day_hour'], ax=ax[4], color='orange')\n"
      ],
      "execution_count": 0,
      "outputs": [
        {
          "output_type": "stream",
          "text": [
            "/usr/local/lib/python3.6/dist-packages/matplotlib/axes/_axes.py:6521: MatplotlibDeprecationWarning: \n",
            "The 'normed' kwarg was deprecated in Matplotlib 2.1 and will be removed in 3.1. Use 'density' instead.\n",
            "  alternative=\"'density'\", removal=\"3.1\")\n"
          ],
          "name": "stderr"
        },
        {
          "output_type": "display_data",
          "data": {
            "image/png": "[encoded data removed]",
            "text/plain": [
              "<Figure size 1440x432 with 5 Axes>"
            ]
          },
          "metadata": {
            "tags": []
          }
        }
      ]
    },
    {
      "metadata": {
        "id": "lfuC1GrkaXM1",
        "colab_type": "text"
      },
      "cell_type": "markdown",
      "source": [
        "**no ano de 2015 parece que temos uma queda de usuários em relação aos anos anteriores**"
      ]
    },
    {
      "metadata": {
        "id": "XMJaO2D2akSh",
        "colab_type": "text"
      },
      "cell_type": "markdown",
      "source": [
        "**5 hrs da manhã parece ser a hora com menos corridas**"
      ]
    },
    {
      "metadata": {
        "id": "YjbvN69ihEGu",
        "colab_type": "code",
        "colab": {}
      },
      "cell_type": "code",
      "source": [
        "df = df_train.copy()"
      ],
      "execution_count": 0,
      "outputs": []
    },
    {
      "metadata": {
        "id": "I648iJxbaZxI",
        "colab_type": "code",
        "outputId": "41bea83b-9956-40a2-a841-e7cc39703785",
        "colab": {
          "base_uri": "https://localhost:8080/",
          "height": 34
        }
      },
      "cell_type": "code",
      "source": [
        "len(df)"
      ],
      "execution_count": 0,
      "outputs": [
        {
          "output_type": "execute_result",
          "data": {
            "text/plain": [
              "1048565"
            ]
          },
          "metadata": {
            "tags": []
          },
          "execution_count": 176
        }
      ]
    },
    {
      "metadata": {
        "id": "ju7LgX-MzyRH",
        "colab_type": "code",
        "colab": {}
      },
      "cell_type": "code",
      "source": [
        "#vamos tratar os erros acima descritos\n",
        "\n",
        "# deletar valores menores ou iguais a zero em fare_amount\n",
        "df = df[df.fare_amount > 0]"
      ],
      "execution_count": 0,
      "outputs": []
    },
    {
      "metadata": {
        "id": "qA8Rtl1LaZJR",
        "colab_type": "code",
        "outputId": "bf89df3f-7b34-4db4-b752-d2ab8dd6fe03",
        "colab": {
          "base_uri": "https://localhost:8080/",
          "height": 34
        }
      },
      "cell_type": "code",
      "source": [
        "len(df)"
      ],
      "execution_count": 0,
      "outputs": [
        {
          "output_type": "execute_result",
          "data": {
            "text/plain": [
              "1048496"
            ]
          },
          "metadata": {
            "tags": []
          },
          "execution_count": 178
        }
      ]
    },
    {
      "metadata": {
        "id": "SF0mIIEacuvx",
        "colab_type": "code",
        "colab": {}
      },
      "cell_type": "code",
      "source": [
        "#deletar dados de passenger_count que sejam menores ou iguais a zero e o outlier 208\n",
        "df=df[~(df.passenger_count <= 0)]\n",
        "df=df[df.passenger_count != 208]"
      ],
      "execution_count": 0,
      "outputs": []
    },
    {
      "metadata": {
        "id": "CrQPkS1uaivK",
        "colab_type": "code",
        "outputId": "83fe31a5-40a6-4d63-c425-023fe49ca98b",
        "colab": {
          "base_uri": "https://localhost:8080/",
          "height": 34
        }
      },
      "cell_type": "code",
      "source": [
        "len(df)"
      ],
      "execution_count": 0,
      "outputs": [
        {
          "output_type": "execute_result",
          "data": {
            "text/plain": [
              "1044781"
            ]
          },
          "metadata": {
            "tags": []
          },
          "execution_count": 180
        }
      ]
    },
    {
      "metadata": {
        "id": "WGYzTsJwZP9m",
        "colab_type": "code",
        "colab": {}
      },
      "cell_type": "code",
      "source": [
        "#deletar os outliers de distance...vamos considerar corridas maior que 1km e menor que 200 km\n",
        "df = df[df.distance>0]\n",
        "df = df[df.distance<200]"
      ],
      "execution_count": 0,
      "outputs": []
    },
    {
      "metadata": {
        "id": "9UgXVb_fbBuJ",
        "colab_type": "code",
        "outputId": "46a11d19-6f0f-4dd5-be11-6f97541eff5f",
        "colab": {
          "base_uri": "https://localhost:8080/",
          "height": 34
        }
      },
      "cell_type": "code",
      "source": [
        "len(df)"
      ],
      "execution_count": 0,
      "outputs": [
        {
          "output_type": "execute_result",
          "data": {
            "text/plain": [
              "1006536"
            ]
          },
          "metadata": {
            "tags": []
          },
          "execution_count": 182
        }
      ]
    },
    {
      "metadata": {
        "id": "ftzIFH3FegDh",
        "colab_type": "code",
        "colab": {}
      },
      "cell_type": "code",
      "source": [
        "#deletar os valores de latitude e longitude que passem dos limites\n",
        "df= df.drop(((df[df['pickup_latitude']<-90])|(df[df['pickup_latitude']>90])).index, axis=0)\n",
        "df = df.drop(((df[df['pickup_longitude']<-180])|(df[df['pickup_longitude']>180])).index, axis=0)\n",
        "df = df.drop(((df[df['dropoff_longitude']<-180])|(df[df['dropoff_longitude']>180])).index, axis=0)\n",
        "df = df.drop(((df[df['dropoff_latitude']<-180])|(df[df['dropoff_latitude']>180])).index, axis=0)"
      ],
      "execution_count": 0,
      "outputs": []
    },
    {
      "metadata": {
        "id": "Av4lwUMbkp_4",
        "colab_type": "code",
        "outputId": "738930ab-be1a-40c4-e16c-b030e29c893b",
        "colab": {
          "base_uri": "https://localhost:8080/",
          "height": 34
        }
      },
      "cell_type": "code",
      "source": [
        "len(df)"
      ],
      "execution_count": 0,
      "outputs": [
        {
          "output_type": "execute_result",
          "data": {
            "text/plain": [
              "1006410"
            ]
          },
          "metadata": {
            "tags": []
          },
          "execution_count": 184
        }
      ]
    },
    {
      "metadata": {
        "id": "JqoeE6xWf0Pi",
        "colab_type": "code",
        "colab": {}
      },
      "cell_type": "code",
      "source": [
        "#deletar dados onde fare_amount é maior que 500 dolares\n",
        "df=df[df.fare_amount<=500]"
      ],
      "execution_count": 0,
      "outputs": []
    },
    {
      "metadata": {
        "id": "xF68-1bi3Kho",
        "colab_type": "code",
        "outputId": "7ab3df09-b13e-4650-928a-878717c92dd0",
        "colab": {
          "base_uri": "https://localhost:8080/",
          "height": 34
        }
      },
      "cell_type": "code",
      "source": [
        "len(df)"
      ],
      "execution_count": 0,
      "outputs": [
        {
          "output_type": "execute_result",
          "data": {
            "text/plain": [
              "1006410"
            ]
          },
          "metadata": {
            "tags": []
          },
          "execution_count": 186
        }
      ]
    },
    {
      "metadata": {
        "id": "e5yv371bsGpE",
        "colab_type": "code",
        "colab": {}
      },
      "cell_type": "code",
      "source": [
        "#excluir algumas colunas para treinar o modelo\n",
        "df.drop(columns=['key','pickup_datetime'], inplace=True)"
      ],
      "execution_count": 0,
      "outputs": []
    },
    {
      "metadata": {
        "id": "dUyy_uEdtwXU",
        "colab_type": "code",
        "outputId": "3edc74e9-c109-4531-88bd-7c2f713be016",
        "colab": {
          "base_uri": "https://localhost:8080/",
          "height": 306
        }
      },
      "cell_type": "code",
      "source": [
        "df.info()"
      ],
      "execution_count": 0,
      "outputs": [
        {
          "output_type": "stream",
          "text": [
            "<class 'pandas.core.frame.DataFrame'>\n",
            "Int64Index: 1006410 entries, 0 to 1048574\n",
            "Data columns (total 12 columns):\n",
            "fare_amount                 1006410 non-null float64\n",
            "pickup_longitude            1006410 non-null float64\n",
            "pickup_latitude             1006410 non-null float64\n",
            "dropoff_longitude           1006410 non-null float64\n",
            "dropoff_latitude            1006410 non-null float64\n",
            "passenger_count             1006410 non-null int64\n",
            "pickup_datetime_year        1006410 non-null int64\n",
            "pickup_datetime_month       1006410 non-null int64\n",
            "pickup_datetime_day_week    1006410 non-null int64\n",
            "pickup_datetime_day         1006410 non-null int64\n",
            "pickup_datetime_day_hour    1006410 non-null int64\n",
            "distance                    1006410 non-null float64\n",
            "dtypes: float64(6), int64(6)\n",
            "memory usage: 99.8 MB\n"
          ],
          "name": "stdout"
        }
      ]
    },
    {
      "metadata": {
        "id": "iMSABZD-lPo8",
        "colab_type": "text"
      },
      "cell_type": "markdown",
      "source": [
        "# Modelagem e predição"
      ]
    },
    {
      "metadata": {
        "id": "jpKWooK1rSlM",
        "colab_type": "code",
        "colab": {}
      },
      "cell_type": "code",
      "source": [
        "#preparando o dataset de tests com as mesmas features do de treino\n",
        "add_date_features(df_test)\n",
        "haversine_distance(df_test)"
      ],
      "execution_count": 0,
      "outputs": []
    },
    {
      "metadata": {
        "id": "eAgsopmJr_4J",
        "colab_type": "code",
        "outputId": "9d5949a5-cb8e-4457-9604-d23716ce67f6",
        "colab": {
          "base_uri": "https://localhost:8080/",
          "height": 323
        }
      },
      "cell_type": "code",
      "source": [
        "df_test.info()"
      ],
      "execution_count": 0,
      "outputs": [
        {
          "output_type": "stream",
          "text": [
            "<class 'pandas.core.frame.DataFrame'>\n",
            "RangeIndex: 9914 entries, 0 to 9913\n",
            "Data columns (total 13 columns):\n",
            "key                         9914 non-null object\n",
            "pickup_datetime             9914 non-null datetime64[ns]\n",
            "pickup_longitude            9914 non-null float64\n",
            "pickup_latitude             9914 non-null float64\n",
            "dropoff_longitude           9914 non-null float64\n",
            "dropoff_latitude            9914 non-null float64\n",
            "passenger_count             9914 non-null int64\n",
            "pickup_datetime_year        9914 non-null int64\n",
            "pickup_datetime_month       9914 non-null int64\n",
            "pickup_datetime_day_week    9914 non-null int64\n",
            "pickup_datetime_day         9914 non-null int64\n",
            "pickup_datetime_day_hour    9914 non-null int64\n",
            "distance                    9914 non-null float64\n",
            "dtypes: datetime64[ns](1), float64(5), int64(6), object(1)\n",
            "memory usage: 1007.0+ KB\n"
          ],
          "name": "stdout"
        }
      ]
    },
    {
      "metadata": {
        "id": "0uos7HeSv2-G",
        "colab_type": "code",
        "colab": {}
      },
      "cell_type": "code",
      "source": [
        "#copia de df_test\n",
        "test_aux = df_test.copy()"
      ],
      "execution_count": 0,
      "outputs": []
    },
    {
      "metadata": {
        "id": "gdnQy_p-uz43",
        "colab_type": "code",
        "colab": {}
      },
      "cell_type": "code",
      "source": [
        "\n",
        "test_aux.drop(columns=['key','pickup_datetime'], inplace=True )"
      ],
      "execution_count": 0,
      "outputs": []
    },
    {
      "metadata": {
        "id": "QIeDXk3ouE-b",
        "colab_type": "code",
        "colab": {}
      },
      "cell_type": "code",
      "source": [
        "X = df.drop(columns=['fare_amount'])\n",
        "y = df.fare_amount"
      ],
      "execution_count": 0,
      "outputs": []
    },
    {
      "metadata": {
        "id": "HbSLpf2ed5Lf",
        "colab_type": "code",
        "colab": {}
      },
      "cell_type": "code",
      "source": [
        "from sklearn.ensemble import RandomForestRegressor"
      ],
      "execution_count": 0,
      "outputs": []
    },
    {
      "metadata": {
        "id": "jg2RMBjId5Gm",
        "colab_type": "code",
        "colab": {}
      },
      "cell_type": "code",
      "source": [
        "rf = RandomForestRegressor(n_estimators=50, min_samples_split = 10)\n",
        "rf.fit(X, y)\n",
        "pred = rf.predict(test_aux)"
      ],
      "execution_count": 0,
      "outputs": []
    },
    {
      "metadata": {
        "id": "QbkzQWIkucF6",
        "colab_type": "code",
        "outputId": "b6f174ab-7185-420b-f767-7e2182673092",
        "colab": {
          "base_uri": "https://localhost:8080/",
          "height": 359
        }
      },
      "cell_type": "code",
      "source": [
        "submission = pd.read_csv(\"/content/drive/My Drive/e-sig/taxi_fare/sample_submission.csv\")\n",
        "submission['fare_amount'] = pred\n",
        "submission.to_csv('submission_1.csv', index=False)\n",
        "submission.head()"
      ],
      "execution_count": 0,
      "outputs": [
        {
          "output_type": "execute_result",
          "data": {
            "text/html": [
              "<div>\n",
              "<style scoped>\n",
              "    .dataframe tbody tr th:only-of-type {\n",
              "        vertical-align: middle;\n",
              "    }\n",
              "\n",
              "    .dataframe tbody tr th {\n",
              "        vertical-align: top;\n",
              "    }\n",
              "\n",
              "    .dataframe thead th {\n",
              "        text-align: right;\n",
              "    }\n",
              "</style>\n",
              "<table border=\"1\" class=\"dataframe\">\n",
              "  <thead>\n",
              "    <tr style=\"text-align: right;\">\n",
              "      <th></th>\n",
              "      <th>key</th>\n",
              "      <th>fare_amount</th>\n",
              "    </tr>\n",
              "  </thead>\n",
              "  <tbody>\n",
              "    <tr>\n",
              "      <th>0</th>\n",
              "      <td>2015-01-27 13:08:24.0000002</td>\n",
              "      <td>9.688878</td>\n",
              "    </tr>\n",
              "    <tr>\n",
              "      <th>1</th>\n",
              "      <td>2015-01-27 13:08:24.0000003</td>\n",
              "      <td>10.418181</td>\n",
              "    </tr>\n",
              "    <tr>\n",
              "      <th>2</th>\n",
              "      <td>2011-10-08 11:53:44.0000002</td>\n",
              "      <td>4.332147</td>\n",
              "    </tr>\n",
              "    <tr>\n",
              "      <th>3</th>\n",
              "      <td>2012-12-01 21:12:12.0000002</td>\n",
              "      <td>8.672769</td>\n",
              "    </tr>\n",
              "    <tr>\n",
              "      <th>4</th>\n",
              "      <td>2012-12-01 21:12:12.0000003</td>\n",
              "      <td>16.381850</td>\n",
              "    </tr>\n",
              "    <tr>\n",
              "      <th>5</th>\n",
              "      <td>2012-12-01 21:12:12.0000005</td>\n",
              "      <td>11.436706</td>\n",
              "    </tr>\n",
              "    <tr>\n",
              "      <th>6</th>\n",
              "      <td>2011-10-06 12:10:20.0000001</td>\n",
              "      <td>5.352192</td>\n",
              "    </tr>\n",
              "    <tr>\n",
              "      <th>7</th>\n",
              "      <td>2011-10-06 12:10:20.0000003</td>\n",
              "      <td>49.329758</td>\n",
              "    </tr>\n",
              "    <tr>\n",
              "      <th>8</th>\n",
              "      <td>2011-10-06 12:10:20.0000002</td>\n",
              "      <td>14.849498</td>\n",
              "    </tr>\n",
              "    <tr>\n",
              "      <th>9</th>\n",
              "      <td>2014-02-18 15:22:20.0000002</td>\n",
              "      <td>6.102248</td>\n",
              "    </tr>\n",
              "  </tbody>\n",
              "</table>\n",
              "</div>"
            ],
            "text/plain": [
              "                           key  fare_amount\n",
              "0  2015-01-27 13:08:24.0000002     9.688878\n",
              "1  2015-01-27 13:08:24.0000003    10.418181\n",
              "2  2011-10-08 11:53:44.0000002     4.332147\n",
              "3  2012-12-01 21:12:12.0000002     8.672769\n",
              "4  2012-12-01 21:12:12.0000003    16.381850\n",
              "5  2012-12-01 21:12:12.0000005    11.436706\n",
              "6  2011-10-06 12:10:20.0000001     5.352192\n",
              "7  2011-10-06 12:10:20.0000003    49.329758\n",
              "8  2011-10-06 12:10:20.0000002    14.849498\n",
              "9  2014-02-18 15:22:20.0000002     6.102248"
            ]
          },
          "metadata": {
            "tags": []
          },
          "execution_count": 196
        }
      ]
    },
    {
      "metadata": {
        "id": "sKwRv80YugTT",
        "colab_type": "code",
        "colab": {}
      },
      "cell_type": "code",
      "source": [
        "from google.colab import files\n",
        "files.download('submission_1.csv')"
      ],
      "execution_count": 0,
      "outputs": []
    }
  ]
}